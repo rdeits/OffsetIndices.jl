{
 "cells": [
  {
   "cell_type": "code",
   "execution_count": 45,
   "metadata": {
    "collapsed": true
   },
   "outputs": [],
   "source": [
    "using Base.Test"
   ]
  },
  {
   "cell_type": "code",
   "execution_count": 72,
   "metadata": {
    "collapsed": false
   },
   "outputs": [
    {
     "name": "stderr",
     "output_type": "stream",
     "text": [
      "WARNING: replacing module OffsetIndices\n"
     ]
    },
    {
     "data": {
      "text/plain": [
       "OffsetIndices"
      ]
     },
     "execution_count": 72,
     "metadata": {},
     "output_type": "execute_result"
    }
   ],
   "source": [
    "module OffsetIndices\n",
    "\n",
    "import Base: +, -, abs, *, /, div, convert, ==, <=, >=, show, to_index\n",
    "\n",
    "\n",
    "immutable OffsetIndex{O, T <: Integer} <: Integer\n",
    "    i::T\n",
    "    \n",
    "    OffsetIndex{O, T}(x::T) where {O, T <: Integer} = new{O, T}(x + O)\n",
    "end\n",
    "\n",
    "const ZeroIndex{T <: Integer} = OffsetIndex{-1, T}\n",
    "const OneIndex{T <: Integer} = OffsetIndex{0, T}\n",
    "\n",
    "raw(x::OffsetIndex) = x.i\n",
    "raw(x::Integer) = x\n",
    "\n",
    "######\n",
    "\n",
    "function show{O, T}(io::IO, oi::OffsetIndex{O, T})\n",
    "    print(io, \"|$(raw(oi)) (indexes as $(raw(oi) - O))|\")\n",
    "end\n",
    "\n",
    "Base.eltype(::Type{OffsetIndex{O, T}}) where {O, T} = T\n",
    "Base.eltype(oi::OffsetIndex) = eltype(typeof(oi))\n",
    "\n",
    "# constructors and conversion\n",
    "convert(::Type{OffsetIndex{O1, T1}}, x::OffsetIndex{O2, T2}) where {O1, O2, T1 <: Integer, T2 <: Integer} = \n",
    "    OffsetIndex{O1, T1}(T2(x))\n",
    "convert(::Type{OffsetIndex{O}}, x::Integer) where {O} = convert(OffsetIndex{O, eltype(x)}, x)\n",
    "convert(::Type{OffsetIndex{O}}, x::OffsetIndex) where {O} = convert(OffsetIndex{O, eltype(x)}, x)\n",
    "convert(::Type{OffsetIndex{O, T}}, x::Integer) where {O, T <: Integer} = convert(OffsetIndex{O, T}, OneIndex{eltype(x)}(x))\n",
    "\n",
    "convert(::Type{IT}, x::OffsetIndex{O, T}) where {IT <: Integer, O, T <: Integer} = IT(raw(x) - O)\n",
    "\n",
    "Base.@pure pure_max(x1, x2) = x1 > x2 ? x1 : x2\n",
    "Base.promote_rule(::Type{T1}, ::Type{OffsetIndex{O, T2}}) where {T1 <: Integer, O, T2} = T1\n",
    "Base.promote_rule(::Type{OffsetIndex{O1, T1}}, ::Type{OffsetIndex{O2, T2}}) where {O1, O2, T1, T2} = OffsetIndex{pure_max(O1, O2), promote_type(T1, T2)}\n",
    "\n",
    "to_index(I::OffsetIndex) = OneIndex(I)\n",
    "to_index(I::OffsetIndex{0}) = raw(I)\n",
    "\n",
    "######\n",
    "\n",
    "end\n",
    "\n",
    "OI = OffsetIndices"
   ]
  },
  {
   "cell_type": "code",
   "execution_count": 73,
   "metadata": {
    "collapsed": false
   },
   "outputs": [],
   "source": [
    "# an array to index into\n",
    "x = [1, 2, 3, 4];"
   ]
  },
  {
   "cell_type": "code",
   "execution_count": 74,
   "metadata": {
    "collapsed": false
   },
   "outputs": [
    {
     "name": "stdout",
     "output_type": "stream",
     "text": [
      "o1 = |1 (indexes as 1)|\n"
     ]
    },
    {
     "data": {
      "text/plain": [
       "\u001b[1m\u001b[32mTest Passed\n",
       "\u001b[39m\u001b[22m"
      ]
     },
     "execution_count": 74,
     "metadata": {},
     "output_type": "execute_result"
    }
   ],
   "source": [
    "# Creating an index from a regular integer:\n",
    "o1 = OI.OneIndex(1)\n",
    "@show o1\n",
    "@test x[o1] == 1"
   ]
  },
  {
   "cell_type": "code",
   "execution_count": 75,
   "metadata": {
    "collapsed": false
   },
   "outputs": [
    {
     "name": "stdout",
     "output_type": "stream",
     "text": [
      "o0 = |0 (indexes as 1)|\n"
     ]
    },
    {
     "data": {
      "text/plain": [
       "\u001b[1m\u001b[32mTest Passed\n",
       "\u001b[39m\u001b[22m"
      ]
     },
     "execution_count": 75,
     "metadata": {},
     "output_type": "execute_result"
    }
   ],
   "source": [
    "# Creating a zero index still requires a one-based input\n",
    "# (the moral here is that untyped integers are always\n",
    "# implicitly one-based)\n",
    "o0 = OI.ZeroIndex(1)\n",
    "@show o0\n",
    "@test x[o0] == 1"
   ]
  },
  {
   "cell_type": "code",
   "execution_count": 76,
   "metadata": {
    "collapsed": false
   },
   "outputs": [
    {
     "data": {
      "text/plain": [
       "\u001b[1m\u001b[32mTest Passed\n",
       "\u001b[39m\u001b[22m"
      ]
     },
     "execution_count": 76,
     "metadata": {},
     "output_type": "execute_result"
    }
   ],
   "source": [
    "# Conversion to an integer is always one-based\n",
    "@test Int(OI.ZeroIndex(1)) == 1"
   ]
  },
  {
   "cell_type": "code",
   "execution_count": 77,
   "metadata": {
    "collapsed": false
   },
   "outputs": [
    {
     "name": "stdout",
     "output_type": "stream",
     "text": [
      "zero_based_indices = OffsetIndices.OffsetIndex{-1,Int64}[|0 (indexes as 1)|, |1 (indexes as 2)|, |2 (indexes as 3)|]\n"
     ]
    },
    {
     "data": {
      "text/plain": [
       "\u001b[1m\u001b[32mTest Passed\n",
       "\u001b[39m\u001b[22m"
      ]
     },
     "execution_count": 77,
     "metadata": {},
     "output_type": "execute_result"
    }
   ],
   "source": [
    "# We can use reinterpret() to read from zero-based\n",
    "# data without any explicit additions\n",
    "zero_based_data = [0, 1, 2]\n",
    "desired_type = OI.OneIndex{Int}\n",
    "zero_based_indices = reinterpret(OI.ZeroIndex{Int}, zero_based_data)\n",
    "@show zero_based_indices\n",
    "\n",
    "# But converting those indices back to integers makes them one-indexed as usual\n",
    "@test zero_based_indices == [1, 2, 3] "
   ]
  },
  {
   "cell_type": "code",
   "execution_count": 78,
   "metadata": {
    "collapsed": false
   },
   "outputs": [
    {
     "name": "stdout",
     "output_type": "stream",
     "text": [
      "o10 = |11 (indexes as 1)|\n"
     ]
    },
    {
     "data": {
      "text/plain": [
       "\u001b[1m\u001b[32mTest Passed\n",
       "\u001b[39m\u001b[22m"
      ]
     },
     "execution_count": 78,
     "metadata": {},
     "output_type": "execute_result"
    }
   ],
   "source": [
    "# Converting from one offset to another preserves indexing:\n",
    "o10 = convert(OI.OffsetIndex{10}, o1)\n",
    "@show o10\n",
    "@test x[o10] === x[o1]"
   ]
  },
  {
   "cell_type": "code",
   "execution_count": 79,
   "metadata": {
    "collapsed": false
   },
   "outputs": [
    {
     "data": {
      "text/plain": [
       "\u001b[1m\u001b[32mTest Passed\n",
       "\u001b[39m\u001b[22m"
      ]
     },
     "execution_count": 79,
     "metadata": {},
     "output_type": "execute_result"
    }
   ],
   "source": [
    "# ...but changes the raw representation:\n",
    "@test OI.raw(o10) == 11"
   ]
  },
  {
   "cell_type": "code",
   "execution_count": null,
   "metadata": {
    "collapsed": true
   },
   "outputs": [],
   "source": []
  }
 ],
 "metadata": {
  "kernelspec": {
   "display_name": "Julia 0.6.0-rc2",
   "language": "julia",
   "name": "julia-0.6"
  },
  "language_info": {
   "file_extension": ".jl",
   "mimetype": "application/julia",
   "name": "julia",
   "version": "0.6.0"
  }
 },
 "nbformat": 4,
 "nbformat_minor": 1
}
